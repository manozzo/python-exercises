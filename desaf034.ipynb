{
 "metadata": {
  "language_info": {
   "codemirror_mode": {
    "name": "ipython",
    "version": 3
   },
   "file_extension": ".py",
   "mimetype": "text/x-python",
   "name": "python",
   "nbconvert_exporter": "python",
   "pygments_lexer": "ipython3",
   "version": "3.9.1-final"
  },
  "orig_nbformat": 2,
  "kernelspec": {
   "name": "python3",
   "display_name": "Python 3",
   "language": "python"
  }
 },
 "nbformat": 4,
 "nbformat_minor": 2,
 "cells": [
  {
   "cell_type": "code",
   "execution_count": 5,
   "metadata": {},
   "outputs": [
    {
     "output_type": "stream",
     "name": "stdout",
     "text": [
      "Calculadora de aumentos!\n",
      "O valor do seu novo salário com aumento de 15% é de R$1150.00\n"
     ]
    }
   ],
   "source": [
    "print('Calculadora de aumentos!')\n",
    "salario = float(input('Digite o salário em R$: '))\n",
    "if salario > 1250:\n",
    "    aumento = salario*1.1\n",
    "    print('O valor do seu novo salário com aumento de 10% é de R${:.2f}' .format(aumento))\n",
    "else:\n",
    "    aumento = salario*1.15\n",
    "    print('O valor do seu novo salário com aumento de 15% é de R${:.2f}' .format(aumento))"
   ]
  },
  {
   "cell_type": "code",
   "execution_count": null,
   "metadata": {},
   "outputs": [],
   "source": []
  }
 ]
}