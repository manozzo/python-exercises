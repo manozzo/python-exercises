{
 "metadata": {
  "language_info": {
   "codemirror_mode": {
    "name": "ipython",
    "version": 3
   },
   "file_extension": ".py",
   "mimetype": "text/x-python",
   "name": "python",
   "nbconvert_exporter": "python",
   "pygments_lexer": "ipython3",
   "version": "3.9.1-final"
  },
  "orig_nbformat": 2,
  "kernelspec": {
   "name": "python3",
   "display_name": "Python 3",
   "language": "python"
  }
 },
 "nbformat": 4,
 "nbformat_minor": 2,
 "cells": [
  {
   "cell_type": "code",
   "execution_count": 6,
   "metadata": {},
   "outputs": [
    {
     "output_type": "stream",
     "name": "stdout",
     "text": [
      "A distância é de 500.00km e a passagem custa R$225.00\n"
     ]
    }
   ],
   "source": [
    "dist = float(input('Digite a distância da viagem em km:'))\n",
    "price1 = 0.50\n",
    "price2 = 0.45\n",
    "if dist <= 200:\n",
    "    valor = price1*dist\n",
    "    print('A distância é de {:.2f}km e a passagem custa R${:.2f}' .format(dist, valor))\n",
    "else:\n",
    "    valor = price2*dist\n",
    "    print('A distância é de {:.2f}km e a passagem custa R${:.2f}' .format(dist, valor))"
   ]
  }
 ]
}