{
 "metadata": {
  "language_info": {
   "codemirror_mode": {
    "name": "ipython",
    "version": 3
   },
   "file_extension": ".py",
   "mimetype": "text/x-python",
   "name": "python",
   "nbconvert_exporter": "python",
   "pygments_lexer": "ipython3",
   "version": "3.9.1-final"
  },
  "orig_nbformat": 2,
  "kernelspec": {
   "name": "python3",
   "display_name": "Python 3",
   "language": "python"
  }
 },
 "nbformat": 4,
 "nbformat_minor": 2,
 "cells": [
  {
   "cell_type": "code",
   "execution_count": 22,
   "metadata": {},
   "outputs": [
    {
     "output_type": "stream",
     "name": "stdout",
     "text": [
      "Serviço de alistamento militar.\n",
      "Você ainda não pode se alistar. \n",
      "Você deve se alistar daqui a 7 anos.\n"
     ]
    }
   ],
   "source": [
    "from datetime import date\n",
    "print('Serviço de alistamento militar.')\n",
    "nasc = int(input('Em que ano o jovem nasceu?'))\n",
    "anoHoje = date.today().year\n",
    "idade = anoHoje-nasc\n",
    "if idade < 18:\n",
    "    alistamento = 18 - idade\n",
    "    if alistamento == 1:\n",
    "        print(\"Você ainda não pode se alistar. \\nVocê deve se alistar daqui {} ano.\" .format(alistamento))\n",
    "    else:\n",
    "        print('Você ainda não pode se alistar. \\nVocê deve se alistar daqui a {} anos.' .format(alistamento))\n",
    "elif idade == 18:\n",
    "    print('Você deve se alistar agora, vocÊ tem até fim do ano!')\n",
    "else:\n",
    "    print('Você passou da idade de se alistar, você foi condenado a jogar LoL para o resto da vida!')        \n",
    "\n"
   ]
  },
  {
   "cell_type": "code",
   "execution_count": null,
   "metadata": {},
   "outputs": [],
   "source": []
  }
 ]
}