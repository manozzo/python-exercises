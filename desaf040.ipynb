{
 "metadata": {
  "language_info": {
   "codemirror_mode": {
    "name": "ipython",
    "version": 3
   },
   "file_extension": ".py",
   "mimetype": "text/x-python",
   "name": "python",
   "nbconvert_exporter": "python",
   "pygments_lexer": "ipython3",
   "version": "3.9.1-final"
  },
  "orig_nbformat": 2,
  "kernelspec": {
   "name": "python3",
   "display_name": "Python 3",
   "language": "python"
  }
 },
 "nbformat": 4,
 "nbformat_minor": 2,
 "cells": [
  {
   "cell_type": "code",
   "execution_count": 11,
   "metadata": {},
   "outputs": [
    {
     "output_type": "stream",
     "name": "stdout",
     "text": [
      "Hora do boletim\n",
      "A sua média é 7.0. Você está aprovado!\n"
     ]
    }
   ],
   "source": [
    "print('Hora do boletim')\n",
    "n1 = float(input('Digite a primeira nota: '))\n",
    "n2 = float(input('Digite a segunda nota: '))\n",
    "media = (n1+n2)/2\n",
    "if media < 5:\n",
    "    print('A sua média é {:.1f}. Você está reprovado!' .format(media))\n",
    "elif media >= 5 and media <= 6.9:\n",
    "    print('A sua média é {:.1f}. Você está de recuperação!' .format(media))\n",
    "elif media >= 9:\n",
    "    print('Parabéns seu NERDÃO. A sua média é {:.1f}!' .format(media))\n",
    "else:\n",
    "    print('A sua média é {:.1f}. Você está aprovado!' .format(media))"
   ]
  },
  {
   "cell_type": "code",
   "execution_count": null,
   "metadata": {},
   "outputs": [],
   "source": []
  }
 ]
}