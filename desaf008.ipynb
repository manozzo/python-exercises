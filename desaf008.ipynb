{
 "metadata": {
  "language_info": {
   "codemirror_mode": {
    "name": "ipython",
    "version": 3
   },
   "file_extension": ".py",
   "mimetype": "text/x-python",
   "name": "python",
   "nbconvert_exporter": "python",
   "pygments_lexer": "ipython3",
   "version": "3.9.1-final"
  },
  "orig_nbformat": 2,
  "kernelspec": {
   "name": "python3",
   "display_name": "Python 3",
   "language": "python"
  }
 },
 "nbformat": 4,
 "nbformat_minor": 2,
 "cells": [
  {
   "cell_type": "code",
   "execution_count": 9,
   "metadata": {},
   "outputs": [
    {
     "output_type": "stream",
     "name": "stdout",
     "text": [
      "Este é o melhor conversor de unidades do sul do mundo!\n",
      "O valor escolhido é: 5m\n",
      "Agora vamos converter em cm e mm\n",
      "O valor em centímetros é: 500cm\n",
      "E o valor em milímetros é: 5000mm\n",
      "Valeu falou!\n"
     ]
    }
   ],
   "source": [
    "print('Este é o melhor conversor de unidades do sul do mundo!')\n",
    "a = int(input('Digite o valor: '))\n",
    "print('O valor escolhido é: {}m' .format(a))\n",
    "print('Agora vamos converter em cm e mm')\n",
    "b = a*100\n",
    "c = a*1000\n",
    "print('O valor em centímetros é: {}cm\\nE o valor em milímetros é: {}mm' .format(b, c))\n",
    "print('Valeu falou!')"
   ]
  },
  {
   "cell_type": "code",
   "execution_count": null,
   "metadata": {},
   "outputs": [],
   "source": []
  }
 ]
}