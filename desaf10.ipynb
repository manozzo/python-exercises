{
 "metadata": {
  "language_info": {
   "codemirror_mode": {
    "name": "ipython",
    "version": 3
   },
   "file_extension": ".py",
   "mimetype": "text/x-python",
   "name": "python",
   "nbconvert_exporter": "python",
   "pygments_lexer": "ipython3",
   "version": "3.9.1-final"
  },
  "orig_nbformat": 2,
  "kernelspec": {
   "name": "python3",
   "display_name": "Python 3",
   "language": "python"
  }
 },
 "nbformat": 4,
 "nbformat_minor": 2,
 "cells": [
  {
   "cell_type": "code",
   "execution_count": 18,
   "metadata": {},
   "outputs": [
    {
     "output_type": "stream",
     "name": "stdout",
     "text": [
      "Vamos usar nossa calculadora de tintas!\n",
      "A área da sua parede é de 25.0m²\n",
      "Você precisará de 12.0 litros de tinta\n",
      "Agora vamos ver quanto você vai gastar.\n",
      "O preço é R$5.0\n",
      "Você vai gastar R$60.0 em tinta.\n",
      "Mas vou te dar um desconto de 5%, então o valor total fica em R$57.00\n"
     ]
    }
   ],
   "source": [
    "print('Vamos usar nossa calculadora de tintas!')\n",
    "largura = float(input('Qual é a largura da parede que você deseja pintar? (em metros)'))\n",
    "altura = float(input('E qual é a altura? (em metros)'))\n",
    "area = largura*altura\n",
    "print('A área da sua parede é de {}m²' .format(area))\n",
    "qtdTinta = (area//2)\n",
    "if qtdTinta < 2:\n",
    "    print('Você precisará de {} litro de tinta' .format(qtdTinta))\n",
    "else :\n",
    "    print('Você precisará de {} litros de tinta' .format(qtdTinta))\n",
    "\n",
    "print('Agora vamos ver quanto você vai gastar.')\n",
    "valor = float(input('Qual é o preço do litro da tinta?'))\n",
    "print('O preço é R${}' .format(valor))\n",
    "\n",
    "valorTotal = valor*qtdTinta\n",
    "valorDesconto = valorTotal*0.95\n",
    "print('Você vai gastar R${} em tinta.' .format(valorTotal))\n",
    "print('Mas vou te dar um desconto de 5%, então o valor total fica em R${:.2f}' .format(valorDesconto))\n"
   ]
  }
 ]
}