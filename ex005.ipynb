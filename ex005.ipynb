{
 "metadata": {
  "language_info": {
   "codemirror_mode": {
    "name": "ipython",
    "version": 3
   },
   "file_extension": ".py",
   "mimetype": "text/x-python",
   "name": "python",
   "nbconvert_exporter": "python",
   "pygments_lexer": "ipython3",
   "version": "3.9.1-final"
  },
  "orig_nbformat": 2,
  "kernelspec": {
   "name": "python3",
   "display_name": "Python 3",
   "language": "python"
  }
 },
 "nbformat": 4,
 "nbformat_minor": 2,
 "cells": [
  {
   "cell_type": "code",
   "execution_count": 9,
   "metadata": {},
   "outputs": [
    {
     "output_type": "stream",
     "name": "stdout",
     "text": [
      "A soma é 8, o produto é 7, a divisão é 0.14285714285714285 A divisão inteira é 0, e a potência é 1\n"
     ]
    }
   ],
   "source": [
    "a = int(input(\"Um Valor: \"))\n",
    "b = int(input(\"Outro valor: \"))\n",
    "s = a + b\n",
    "m = a*b\n",
    "d = a/b\n",
    "di = a//b\n",
    "e = a**b\n",
    "print('A soma é {}, o produto é {}, a divisão é {}' .format(s, m, d), end=\" \")\n",
    "print('A divisão inteira é {}, e a potência é {}' .format(di, e))"
   ]
  },
  {
   "cell_type": "code",
   "execution_count": null,
   "metadata": {},
   "outputs": [],
   "source": []
  }
 ]
}