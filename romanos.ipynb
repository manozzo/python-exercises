{
 "metadata": {
  "language_info": {
   "codemirror_mode": {
    "name": "ipython",
    "version": 3
   },
   "file_extension": ".py",
   "mimetype": "text/x-python",
   "name": "python",
   "nbconvert_exporter": "python",
   "pygments_lexer": "ipython3",
   "version": "3.9.1-final"
  },
  "orig_nbformat": 2,
  "kernelspec": {
   "name": "python3",
   "display_name": "Python 3",
   "language": "python"
  }
 },
 "nbformat": 4,
 "nbformat_minor": 2,
 "cells": [
  {
   "cell_type": "code",
   "execution_count": 8,
   "metadata": {},
   "outputs": [
    {
     "output_type": "stream",
     "name": "stdout",
     "text": [
      "Calculadora de números romanos\n"
     ]
    },
    {
     "output_type": "execute_result",
     "data": {
      "text/plain": [
       "'XXIV'"
      ]
     },
     "metadata": {},
     "execution_count": 8
    }
   ],
   "source": [
    "print('Calculadora de números romanos')\n",
    "def int_to_roman():\n",
    "    n = int(input('Digite o número que você quer transformar para romanos: '))\n",
    "    romanos = ('X' , 'IX' , 'V' , 'IV' , 'I')\n",
    "    inteiros = (10 , 9, 5, 4, 1)\n",
    "    result = []\n",
    "    for i in range(len(inteiros)):\n",
    "        count = int(n / inteiros[i])\n",
    "        result.append(romanos[i]*count)\n",
    "        n -= inteiros[i] * count\n",
    "    return ''.join(result)\n",
    "int_to_roman()"
   ]
  },
  {
   "cell_type": "code",
   "execution_count": null,
   "metadata": {},
   "outputs": [],
   "source": []
  }
 ]
}