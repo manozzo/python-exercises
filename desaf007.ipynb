{
 "metadata": {
  "language_info": {
   "codemirror_mode": {
    "name": "ipython",
    "version": 3
   },
   "file_extension": ".py",
   "mimetype": "text/x-python",
   "name": "python",
   "nbconvert_exporter": "python",
   "pygments_lexer": "ipython3",
   "version": "3.9.1-final"
  },
  "orig_nbformat": 2,
  "kernelspec": {
   "name": "python3",
   "display_name": "Python 3",
   "language": "python"
  }
 },
 "nbformat": 4,
 "nbformat_minor": 2,
 "cells": [
  {
   "cell_type": "code",
   "execution_count": 22,
   "metadata": {},
   "outputs": [
    {
     "output_type": "stream",
     "name": "stdout",
     "text": [
      "Vamos calcular a média de duas notas de um aluno.\n",
      "Nota 1: 5\n",
      "Nota 2: 9\n",
      "A média é: 7.0000\n"
     ]
    }
   ],
   "source": [
    "from statistics import mean\n",
    "print('Vamos calcular a média de duas notas de um aluno.')\n",
    "a = float(input('Digite a primeira nota: '))\n",
    "print(\"Nota 1: {:.0f}\" .format(a))\n",
    "b = float(input('Digite a segunda nota: '))\n",
    "print('Nota 2: {:.0f}' .format(b))\n",
    "c = (a, b)\n",
    "print('A média é: {:.4f}' .format(mean(c)))\n"
   ]
  },
  {
   "cell_type": "code",
   "execution_count": null,
   "metadata": {},
   "outputs": [],
   "source": []
  }
 ]
}