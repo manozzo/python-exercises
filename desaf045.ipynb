{
 "metadata": {
  "language_info": {
   "codemirror_mode": {
    "name": "ipython",
    "version": 3
   },
   "file_extension": ".py",
   "mimetype": "text/x-python",
   "name": "python",
   "nbconvert_exporter": "python",
   "pygments_lexer": "ipython3",
   "version": "3.9.1-final"
  },
  "orig_nbformat": 2,
  "kernelspec": {
   "name": "python3",
   "display_name": "Python 3",
   "language": "python"
  }
 },
 "nbformat": 4,
 "nbformat_minor": 2,
 "cells": [
  {
   "cell_type": "code",
   "execution_count": 17,
   "metadata": {},
   "outputs": [
    {
     "output_type": "stream",
     "name": "stdout",
     "text": [
      "Vamos jogar PEDRA, PAPEL ou TESOURA!!!\n",
      "Escolha: \n",
      "[0] PEDRA \n",
      "[1] PAPEL \n",
      "[2] TESOURA!\n",
      "-=-=-=-=-=-=-=-=-=-=\n",
      "O computador escolheu PEDRA\n",
      "O jogador escolheu PAPEL\n",
      "-=-=-=-=-=-=-=-=-=-=\n",
      "Papel ganha de pedra, você ganhou!\n"
     ]
    }
   ],
   "source": [
    "from random import randint\n",
    "print('Vamos jogar PEDRA, PAPEL ou TESOURA!!!')\n",
    "print('Escolha: \\n[0] PEDRA \\n[1] PAPEL \\n[2] TESOURA!')\n",
    "play = int(input())\n",
    "item = ('PEDRA' , 'PAPEL' , 'TESOURA')\n",
    "escolher = randint(0, 2)\n",
    "print('-=' * 10)\n",
    "print('O computador escolheu {}' .format(item[escolher]))\n",
    "print('O jogador escolheu {}' .format(item[play]))\n",
    "print('-=' * 10)\n",
    "if escolher == 0:\n",
    "    if play == 0:\n",
    "        print('Vocês empataram!')\n",
    "    elif play == 2:\n",
    "        print('Pedra ganha de tesoura, você perdeu!')\n",
    "    elif play == 1:\n",
    "        print('Papel ganha de pedra, você ganhou!')\n",
    "    else:\n",
    "        print('Jogada inválida!')\n",
    "elif escolher == 1:\n",
    "    if play == 1:\n",
    "        print('Vocês empataram!')\n",
    "    elif play == 0:\n",
    "        print('Papel ganha de pedra, você perdeu!')\n",
    "    elif play == 2:\n",
    "        print('Tesoura ganha de papel, você ganhou!')\n",
    "    else:\n",
    "        print('Jogada inválida!')\n",
    "elif escolher == 2:\n",
    "    if play == 2:\n",
    "        print('Vocês empataram!')\n",
    "    elif play == 1:\n",
    "        print('Tesoura ganha de papel, você perdeu!')\n",
    "    elif play == 0:\n",
    "        print('Pedra ganha de tesoura, você ganhou!')\n",
    "    else:\n",
    "        print('Jogada inválida!')"
   ]
  },
  {
   "cell_type": "code",
   "execution_count": null,
   "metadata": {},
   "outputs": [],
   "source": []
  }
 ]
}