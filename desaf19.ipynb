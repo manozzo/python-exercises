{
 "metadata": {
  "language_info": {
   "codemirror_mode": {
    "name": "ipython",
    "version": 3
   },
   "file_extension": ".py",
   "mimetype": "text/x-python",
   "name": "python",
   "nbconvert_exporter": "python",
   "pygments_lexer": "ipython3",
   "version": "3.9.1-final"
  },
  "orig_nbformat": 2,
  "kernelspec": {
   "name": "python3",
   "display_name": "Python 3",
   "language": "python"
  }
 },
 "nbformat": 4,
 "nbformat_minor": 2,
 "cells": [
  {
   "cell_type": "code",
   "execution_count": 1,
   "metadata": {},
   "outputs": [
    {
     "output_type": "stream",
     "name": "stdout",
     "text": [
      "Vamos sortear quem vai lavar a louça!\n",
      "Quem vai lavar a louça é: rodrigo\n"
     ]
    }
   ],
   "source": [
    "from random import choice\n",
    "print('Vamos sortear quem vai lavar a louça!')\n",
    "n1 = str(input('Primeiro nome: '))\n",
    "n2 = str(input('Segundo nome: '))\n",
    "n3 = str(input('Terceiro nome: '))\n",
    "n4 = str(input('Quarto nome: '))\n",
    "n5 = str(input('Quinto nome: '))\n",
    "lista = [n1, n2, n3, n4, n5]\n",
    "escolhido = choice(lista)\n",
    "print('Quem vai lavar a louça é: {}' .format(escolhido))"
   ]
  },
  {
   "cell_type": "code",
   "execution_count": null,
   "metadata": {},
   "outputs": [],
   "source": []
  }
 ]
}