{
 "metadata": {
  "language_info": {
   "codemirror_mode": {
    "name": "ipython",
    "version": 3
   },
   "file_extension": ".py",
   "mimetype": "text/x-python",
   "name": "python",
   "nbconvert_exporter": "python",
   "pygments_lexer": "ipython3",
   "version": "3.9.1-final"
  },
  "orig_nbformat": 2,
  "kernelspec": {
   "name": "python3",
   "display_name": "Python 3",
   "language": "python"
  }
 },
 "nbformat": 4,
 "nbformat_minor": 2,
 "cells": [
  {
   "cell_type": "code",
   "execution_count": 49,
   "metadata": {},
   "outputs": [
    {
     "output_type": "stream",
     "name": "stdout",
     "text": [
      "Vamos ver quantos dólares você pode comprar!\n",
      "Escreve um número, idiota!\n",
      "Vamos ver quantos dólares você pode comprar!\n",
      "Escreve um número, idiota!\n",
      "Vamos ver quantos dólares você pode comprar!\n",
      "Você tem R$10,50\n",
      "Você pode comprar US$1.0 e ainda sobra R$5,1 pra você comprar em cigarro solto!\n"
     ]
    }
   ],
   "source": [
    "def pergunta():\n",
    "    print('Vamos ver quantos dólares você pode comprar!')\n",
    "    a = (input('Fala aí quanto você tem no bolso?'))\n",
    "    if a.isalpha():\n",
    "        print('Escreve um número, idiota!')\n",
    "        return pergunta()\n",
    "    else:\n",
    "        \n",
    "        aFormat = float(a.replace(',', '.'))\n",
    "        print('Você tem R${}' .format(a))\n",
    "        dolar = float(5.40)\n",
    "        b = (aFormat//dolar)\n",
    "        c = str((aFormat%dolar)).replace('.',',')\n",
    "\n",
    "        print('Você pode comprar US${} e ainda sobra R${} pra você comprar em cigarro solto!' .format(b, c))\n",
    "pergunta()\n",
    "\n"
   ]
  },
  {
   "cell_type": "code",
   "execution_count": null,
   "metadata": {},
   "outputs": [],
   "source": []
  }
 ]
}