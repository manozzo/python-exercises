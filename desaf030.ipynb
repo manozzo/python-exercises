{
 "metadata": {
  "language_info": {
   "codemirror_mode": {
    "name": "ipython",
    "version": 3
   },
   "file_extension": ".py",
   "mimetype": "text/x-python",
   "name": "python",
   "nbconvert_exporter": "python",
   "pygments_lexer": "ipython3",
   "version": "3.9.1-final"
  },
  "orig_nbformat": 2,
  "kernelspec": {
   "name": "python3",
   "display_name": "Python 3",
   "language": "python"
  }
 },
 "nbformat": 4,
 "nbformat_minor": 2,
 "cells": [
  {
   "cell_type": "code",
   "execution_count": 4,
   "metadata": {},
   "outputs": [
    {
     "output_type": "stream",
     "name": "stdout",
     "text": [
      "Jogo de par ou ímpar!\n",
      "5 é um número ímpar.\n"
     ]
    }
   ],
   "source": [
    "print('Jogo de par ou ímpar!')\n",
    "num = int(input('Digite um número: '))\n",
    "if (num % 2) == 0:\n",
    "    print('{0} é um número par.' .format(num))\n",
    "else:\n",
    "    print('{0} é um número ímpar.' .format(num))    \n"
   ]
  },
  {
   "cell_type": "code",
   "execution_count": null,
   "metadata": {},
   "outputs": [],
   "source": []
  }
 ]
}