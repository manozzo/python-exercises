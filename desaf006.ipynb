{
 "metadata": {
  "language_info": {
   "codemirror_mode": {
    "name": "ipython",
    "version": 3
   },
   "file_extension": ".py",
   "mimetype": "text/x-python",
   "name": "python",
   "nbconvert_exporter": "python",
   "pygments_lexer": "ipython3",
   "version": "3.9.1-final"
  },
  "orig_nbformat": 2,
  "kernelspec": {
   "name": "python3",
   "display_name": "Python 3",
   "language": "python"
  }
 },
 "nbformat": 4,
 "nbformat_minor": 2,
 "cells": [
  {
   "cell_type": "code",
   "execution_count": 13,
   "metadata": {},
   "outputs": [
    {
     "output_type": "stream",
     "name": "stdout",
     "text": [
      "O dobro do seu número é: 18\nO triplo é: 27\nA raiz quadrada é: 3.0000\n"
     ]
    }
   ],
   "source": [
    "import math\n",
    "a = float(input(\"Digite um número: \"))\n",
    "b = a*2\n",
    "c = a*3\n",
    "d = math.sqrt(a)\n",
    "print(\"O dobro do seu número é: {:.0f}\\nO triplo é: {:.0f}\\nA raiz quadrada é: {:.4f}\" .format(b, c, d))"
   ]
  },
  {
   "cell_type": "code",
   "execution_count": null,
   "metadata": {},
   "outputs": [],
   "source": []
  }
 ]
}