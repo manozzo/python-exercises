{
 "metadata": {
  "language_info": {
   "codemirror_mode": {
    "name": "ipython",
    "version": 3
   },
   "file_extension": ".py",
   "mimetype": "text/x-python",
   "name": "python",
   "nbconvert_exporter": "python",
   "pygments_lexer": "ipython3",
   "version": "3.9.1-final"
  },
  "orig_nbformat": 2,
  "kernelspec": {
   "name": "python3",
   "display_name": "Python 3",
   "language": "python"
  }
 },
 "nbformat": 4,
 "nbformat_minor": 2,
 "cells": [
  {
   "cell_type": "code",
   "execution_count": 5,
   "metadata": {},
   "outputs": [
    {
     "output_type": "stream",
     "name": "stdout",
     "text": [
      "============Loja do Manozzo=============\n",
      "FORMAS DE PAGAMENTO\n",
      "[1] à vista em dinheiro/cheque\n",
      "[2] à vista no cartão\n",
      "[3] 2x no cartão\n",
      "[4] 3x ou mais no cartão\n",
      "Sua compra de R$100.00 vai custar R$120.00 no final.\n"
     ]
    }
   ],
   "source": [
    "print('{:=^40}' .format('Loja do Manozzo'))\n",
    "valor = float(input('Digite o preço do produto em R$: '))\n",
    "print('''FORMAS DE PAGAMENTO\n",
    "[1] à vista em dinheiro/cheque\n",
    "[2] à vista no cartão\n",
    "[3] 2x no cartão\n",
    "[4] 3x ou mais no cartão''')\n",
    "pag = int(input('Qual é a opção de pagamento? '))\n",
    "if pag == 1:\n",
    "    total = valor*0.9\n",
    "elif pag == 2:\n",
    "    total = valor*0.95\n",
    "elif pag == 3:\n",
    "    total = valor\n",
    "elif pag == 4:\n",
    "    total = valor*1.2\n",
    "else:\n",
    "    print('Digite um valor válido para a forma de pagamento de 1 a 4.')\n",
    "print('Sua compra de R${:.2f} vai custar R${:.2f} no final.' .format(valor, total))"
   ]
  },
  {
   "cell_type": "code",
   "execution_count": null,
   "metadata": {},
   "outputs": [],
   "source": []
  }
 ]
}