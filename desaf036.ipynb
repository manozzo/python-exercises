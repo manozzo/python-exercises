{
 "metadata": {
  "language_info": {
   "codemirror_mode": {
    "name": "ipython",
    "version": 3
   },
   "file_extension": ".py",
   "mimetype": "text/x-python",
   "name": "python",
   "nbconvert_exporter": "python",
   "pygments_lexer": "ipython3",
   "version": "3.9.1-final"
  },
  "orig_nbformat": 2,
  "kernelspec": {
   "name": "python3",
   "display_name": "Python 3",
   "language": "python"
  }
 },
 "nbformat": 4,
 "nbformat_minor": 2,
 "cells": [
  {
   "cell_type": "code",
   "execution_count": 2,
   "metadata": {},
   "outputs": [
    {
     "output_type": "stream",
     "name": "stdout",
     "text": [
      "Parabéns, vamos prosseguir com a sua compra!\n"
     ]
    }
   ],
   "source": [
    "valorSalario = float(input('Qual é o seu salário em R$?'))\n",
    "valorCasa = float(input('Qual é o valor da casa que você deseja comprar?'))\n",
    "tempo = float(input('Em quantos anos deseja financiar?'))\n",
    "tempoMeses = (tempo*12)\n",
    "parcela = valorCasa/tempoMeses\n",
    "if parcela > (valorSalario*0.33):\n",
    "    print('Desculpe, seu cadastro não foi aprovado, escolha uma casa de menor valor.')\n",
    "else:\n",
    "    print('Parabéns, vamos prosseguir com a sua compra!')"
   ]
  },
  {
   "cell_type": "code",
   "execution_count": null,
   "metadata": {},
   "outputs": [],
   "source": []
  }
 ]
}