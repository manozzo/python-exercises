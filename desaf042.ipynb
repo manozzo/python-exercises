{
 "metadata": {
  "language_info": {
   "codemirror_mode": {
    "name": "ipython",
    "version": 3
   },
   "file_extension": ".py",
   "mimetype": "text/x-python",
   "name": "python",
   "nbconvert_exporter": "python",
   "pygments_lexer": "ipython3",
   "version": "3.9.1-final"
  },
  "orig_nbformat": 2,
  "kernelspec": {
   "name": "python3",
   "display_name": "Python 3",
   "language": "python"
  }
 },
 "nbformat": 4,
 "nbformat_minor": 2,
 "cells": [
  {
   "cell_type": "code",
   "execution_count": 5,
   "metadata": {},
   "outputs": [
    {
     "output_type": "stream",
     "name": "stdout",
     "text": [
      "Essas retas podem formar um triângulo!\nEste é um triângulo isósceles.\n"
     ]
    }
   ],
   "source": [
    "r1 = int(input('Digite o comprimento da primeira reta em metros: '))\n",
    "r2 = int(input('Digite o comprimento da segunda reta em metros: '))\n",
    "r3 = int(input('Digite o comprimento da terceira reta em metros: '))\n",
    "if (r1 + r2) >= r3 and (r1 + r3) >= r2 and (r3 + r2) >= r1:\n",
    "    print('Essas retas podem formar um triângulo!')\n",
    "    if r1 == r2 == r3:\n",
    "        print('Este é um triângulo equilátero de lado {}' .format(r1))\n",
    "    elif r1 == r2 or r2 == r3 or r1 == r3:\n",
    "        print('Este é um triângulo isósceles.')\n",
    "    else:\n",
    "        print('Este é um triângulo escaleno.')    \n",
    "else:\n",
    "    print('Essas retas não podem formar um triângulo!')"
   ]
  },
  {
   "cell_type": "code",
   "execution_count": null,
   "metadata": {},
   "outputs": [],
   "source": []
  }
 ]
}