{
 "metadata": {
  "language_info": {
   "codemirror_mode": {
    "name": "ipython",
    "version": 3
   },
   "file_extension": ".py",
   "mimetype": "text/x-python",
   "name": "python",
   "nbconvert_exporter": "python",
   "pygments_lexer": "ipython3",
   "version": "3.9.1-final"
  },
  "orig_nbformat": 2,
  "kernelspec": {
   "name": "python3",
   "display_name": "Python 3",
   "language": "python"
  }
 },
 "nbformat": 4,
 "nbformat_minor": 2,
 "cells": [
  {
   "cell_type": "code",
   "execution_count": 8,
   "metadata": {},
   "outputs": [
    {
     "output_type": "stream",
     "name": "stdout",
     "text": [
      "Calculadora de IMC\n",
      "Você está acima com sobrepeso.\n"
     ]
    }
   ],
   "source": [
    "print('Calculadora de IMC')\n",
    "altura = float(input('Digite sua altura: '))\n",
    "peso = float(input('Digite seu peso: '))\n",
    "imc = peso/(altura**altura)\n",
    "if imc < 18.5:\n",
    "    print('Você está abaixo do peso ideal.')\n",
    "elif imc >= 18.5 and imc < 25:\n",
    "    print('Você está no peso ideal.')\n",
    "elif imc >= 25 and imc < 30:\n",
    "    print('Você está acima com sobrepeso.')\n",
    "else:\n",
    "    print('Você está com obesidade mórbida.')"
   ]
  },
  {
   "cell_type": "code",
   "execution_count": null,
   "metadata": {},
   "outputs": [],
   "source": []
  }
 ]
}