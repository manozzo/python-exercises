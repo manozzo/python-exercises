{
 "metadata": {
  "language_info": {
   "codemirror_mode": {
    "name": "ipython",
    "version": 3
   },
   "file_extension": ".py",
   "mimetype": "text/x-python",
   "name": "python",
   "nbconvert_exporter": "python",
   "pygments_lexer": "ipython3",
   "version": "3.9.1-final"
  },
  "orig_nbformat": 2,
  "kernelspec": {
   "name": "python3",
   "display_name": "Python 3",
   "language": "python"
  }
 },
 "nbformat": 4,
 "nbformat_minor": 2,
 "cells": [
  {
   "cell_type": "code",
   "execution_count": 6,
   "metadata": {},
   "outputs": [
    {
     "output_type": "stream",
     "name": "stdout",
     "text": [
      "Os número são iguais.\n"
     ]
    }
   ],
   "source": [
    "n1 = int(input('Digite o primeiro valor: '))\n",
    "n2 = int(input('Digite o segundo valor: '))\n",
    "if n1 > n2:\n",
    "    print('O menor número é o {}\\nE o maior número é o {}.' .format(n2, n1))\n",
    "elif n1 < n2:\n",
    "    print('O menor número é o {}\\nE o maior número é o {}.' .format(n1, n2))\n",
    "else:\n",
    "    print('Os número são iguais.')"
   ]
  },
  {
   "cell_type": "code",
   "execution_count": null,
   "metadata": {},
   "outputs": [],
   "source": []
  }
 ]
}