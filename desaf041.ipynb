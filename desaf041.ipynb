{
 "metadata": {
  "language_info": {
   "codemirror_mode": {
    "name": "ipython",
    "version": 3
   },
   "file_extension": ".py",
   "mimetype": "text/x-python",
   "name": "python",
   "nbconvert_exporter": "python",
   "pygments_lexer": "ipython3",
   "version": "3.9.1-final"
  },
  "orig_nbformat": 2,
  "kernelspec": {
   "name": "python3",
   "display_name": "Python 3",
   "language": "python"
  }
 },
 "nbformat": 4,
 "nbformat_minor": 2,
 "cells": [
  {
   "cell_type": "code",
   "execution_count": 8,
   "metadata": {},
   "outputs": [
    {
     "output_type": "stream",
     "name": "stdout",
     "text": [
      "Serviço de alistamento militar.\n",
      "Sua categoria é MIRIM.\n"
     ]
    }
   ],
   "source": [
    "from datetime import date\n",
    "print('Serviço de alistamento militar.')\n",
    "nasc = int(input('Em que ano o jovem nasceu?'))\n",
    "anoHoje = date.today().year\n",
    "idade = anoHoje-nasc\n",
    "if idade <= 9:\n",
    "    print('Sua categoria é MIRIM.')\n",
    "elif idade > 9 and idade <= 14:\n",
    "    print('Sua categoria é INFANTIL.')\n",
    "elif idade > 14 and idade <= 19:\n",
    "    print('Sua categoria é JUNIOR.')\n",
    "elif idade > 19 and idade <= 20:\n",
    "    print('Sua cetegoria é SÊNIOR.')\n",
    "else:\n",
    "    print('Sua categoria é MASTER.')"
   ]
  }
 ]
}