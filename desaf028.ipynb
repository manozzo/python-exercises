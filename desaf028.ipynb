{
 "metadata": {
  "language_info": {
   "codemirror_mode": {
    "name": "ipython",
    "version": 3
   },
   "file_extension": ".py",
   "mimetype": "text/x-python",
   "name": "python",
   "nbconvert_exporter": "python",
   "pygments_lexer": "ipython3",
   "version": "3.9.1-final"
  },
  "orig_nbformat": 2,
  "kernelspec": {
   "name": "python3",
   "display_name": "Python 3",
   "language": "python"
  }
 },
 "nbformat": 4,
 "nbformat_minor": 2,
 "cells": [
  {
   "cell_type": "code",
   "execution_count": 5,
   "metadata": {},
   "outputs": [
    {
     "output_type": "stream",
     "name": "stdout",
     "text": [
      "Estou pensando em um número, é um número de 0 a 5, tente adivinhar qual é!\n",
      "0\n",
      "Parabéns, você acertou!\n"
     ]
    }
   ],
   "source": [
    "import random\n",
    "print('Estou pensando em um número, é um número de 0 a 5, tente adivinhar qual é!')\n",
    "num = random.randint(0,5)\n",
    "num2 = int(input('Digite um número entre 0 e 5: '))\n",
    "if num2 == num:\n",
    "    print('Parabéns, você acertou!')\n",
    "else:\n",
    "    print('Você errou, tente novamente!')    "
   ]
  },
  {
   "cell_type": "code",
   "execution_count": null,
   "metadata": {},
   "outputs": [],
   "source": []
  }
 ]
}