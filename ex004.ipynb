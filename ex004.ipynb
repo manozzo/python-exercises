{
 "metadata": {
  "language_info": {
   "codemirror_mode": {
    "name": "ipython",
    "version": 3
   },
   "file_extension": ".py",
   "mimetype": "text/x-python",
   "name": "python",
   "nbconvert_exporter": "python",
   "pygments_lexer": "ipython3",
   "version": "3.9.1-final"
  },
  "orig_nbformat": 2,
  "kernelspec": {
   "name": "python3",
   "display_name": "Python 3",
   "language": "python"
  }
 },
 "nbformat": 4,
 "nbformat_minor": 2,
 "cells": [
  {
   "cell_type": "code",
   "execution_count": 17,
   "metadata": {},
   "outputs": [
    {
     "output_type": "stream",
     "name": "stdout",
     "text": [
      "O tipo primitivo desse valor é <class 'str'>\nSó tem espaços?  False\nÉ um  número?  False\nÉ alfabético?  False\nÉ alfanumérico?  True\nEstá em maiúscula?  False\nEstá em minúscula?  False\nEstá capitalizada?  True\n"
     ]
    }
   ],
   "source": [
    "a = input('Digite algo: ')\n",
    "print('O tipo primitivo desse valor é', type(a))\n",
    "print('Só tem espaços? ', a.isspace())\n",
    "print('É um  número? ', a.isnumeric())\n",
    "print('É alfabético? ', a.isalpha())\n",
    "print('É alfanumérico? ', a.isalnum())\n",
    "print('Está em maiúscula? ', a.isupper())\n",
    "print('Está em minúscula? ', a.islower())\n",
    "print('Está capitalizada? ', a.istitle())"
   ]
  },
  {
   "cell_type": "code",
   "execution_count": null,
   "metadata": {},
   "outputs": [],
   "source": []
  }
 ]
}