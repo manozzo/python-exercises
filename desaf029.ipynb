{
 "metadata": {
  "language_info": {
   "codemirror_mode": {
    "name": "ipython",
    "version": 3
   },
   "file_extension": ".py",
   "mimetype": "text/x-python",
   "name": "python",
   "nbconvert_exporter": "python",
   "pygments_lexer": "ipython3",
   "version": "3.9.1-final"
  },
  "orig_nbformat": 2,
  "kernelspec": {
   "name": "python3",
   "display_name": "Python 3",
   "language": "python"
  }
 },
 "nbformat": 4,
 "nbformat_minor": 2,
 "cells": [
  {
   "cell_type": "code",
   "execution_count": 3,
   "metadata": {},
   "outputs": [
    {
     "output_type": "stream",
     "name": "stdout",
     "text": [
      "Você foi multado e a multa tem um valor de R$280.00\n"
     ]
    }
   ],
   "source": [
    "velo = float(input('Qual é a velocidade do carro?'))\n",
    "if velo > 80:\n",
    "    valormulta = 7\n",
    "    multa = (velo - 80)*valormulta\n",
    "    print('Você foi multado e a multa tem um valor de R${:.2f}' .format(multa))\n",
    "else:\n",
    "    print('Parabéns, você respeita as regras de trânsito!')    \n"
   ]
  },
  {
   "cell_type": "code",
   "execution_count": null,
   "metadata": {},
   "outputs": [],
   "source": []
  }
 ]
}